{
 "cells": [
  {
   "cell_type": "code",
   "execution_count": 52,
   "metadata": {},
   "outputs": [
    {
     "data": {
      "text/plain": [
       "889"
      ]
     },
     "execution_count": 52,
     "metadata": {},
     "output_type": "execute_result"
    }
   ],
   "source": [
    "class Solution:\n",
    "    \n",
    "    def romanToInt(self, s: str) -> int:\n",
    "        dictionaryFirst={\n",
    "            \"IV\":4,\n",
    "            \"IX\":9,\n",
    "            \"XL\":40,\n",
    "            \"XC\":90,\n",
    "            \"CD\":400,\n",
    "            \"CM\":900,\n",
    "            \"I\":1,\n",
    "            \"V\":5,\n",
    "            \"X\":10,\n",
    "            \"L\":50,\n",
    "            \"C\":100,\n",
    "            \"D\":500,\n",
    "            \"M\":1000\n",
    "        }\n",
    "        i=0\n",
    "        sum=0\n",
    "        while i < len(s):\n",
    "            if(i<len(s)-1):\n",
    "                local=s[i]+s[i+1]\n",
    "                \n",
    "                if (dictionaryFirst.get(local)==None):\n",
    "                    sum+=dictionaryFirst.get(s[i]) \n",
    "                else:\n",
    "                    \n",
    "                    sum+=dictionaryFirst.get(local)\n",
    "                    i+=1 \n",
    "                        \n",
    "                i+=1\n",
    "                \n",
    "            else:\n",
    "                sum+=dictionaryFirst.get(s[i])\n",
    "                i+=1\n",
    "                break   \n",
    "            \n",
    "        \n",
    "        return sum\n",
    "        \n",
    "        \n",
    "a=\"DCCCLXXXIX\"  \n",
    "obj=Solution()  \n",
    "obj.romanToInt(a)   \n"
   ]
  },
  {
   "cell_type": "code",
   "execution_count": null,
   "metadata": {},
   "outputs": [],
   "source": []
  }
 ],
 "metadata": {
  "kernelspec": {
   "display_name": "Python 3",
   "language": "python",
   "name": "python3"
  },
  "language_info": {
   "codemirror_mode": {
    "name": "ipython",
    "version": 3
   },
   "file_extension": ".py",
   "mimetype": "text/x-python",
   "name": "python",
   "nbconvert_exporter": "python",
   "pygments_lexer": "ipython3",
   "version": "3.8.3"
  }
 },
 "nbformat": 4,
 "nbformat_minor": 4
}
